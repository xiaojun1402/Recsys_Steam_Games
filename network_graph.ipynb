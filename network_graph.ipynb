{
 "cells": [
  {
   "cell_type": "markdown",
   "id": "37986950",
   "metadata": {},
   "source": [
    "### Network Graph Visualization"
   ]
  },
  {
   "cell_type": "code",
   "execution_count": 2,
   "id": "96b88dcc",
   "metadata": {},
   "outputs": [],
   "source": [
    "import zipfile\n",
    "import pandas as pd\n",
    "import math\n",
    "import numpy as np\n",
    "import seaborn as sns\n",
    "import matplotlib.pyplot as plt\n"
   ]
  },
  {
   "cell_type": "code",
   "execution_count": 1,
   "id": "7043e935",
   "metadata": {},
   "outputs": [
    {
     "name": "stdout",
     "output_type": "stream",
     "text": [
      "Requirement already satisfied: pyvis in /opt/anaconda3/lib/python3.12/site-packages (0.3.2)\n",
      "Requirement already satisfied: ipython>=5.3.0 in /opt/anaconda3/lib/python3.12/site-packages (from pyvis) (8.12.3)\n",
      "Requirement already satisfied: jinja2>=2.9.6 in /opt/anaconda3/lib/python3.12/site-packages (from pyvis) (3.1.4)\n",
      "Requirement already satisfied: jsonpickle>=1.4.1 in /opt/anaconda3/lib/python3.12/site-packages (from pyvis) (4.1.1)\n",
      "Requirement already satisfied: networkx>=1.11 in /opt/anaconda3/lib/python3.12/site-packages (from pyvis) (3.2.1)\n",
      "Requirement already satisfied: backcall in /opt/anaconda3/lib/python3.12/site-packages (from ipython>=5.3.0->pyvis) (0.2.0)\n",
      "Requirement already satisfied: decorator in /opt/anaconda3/lib/python3.12/site-packages (from ipython>=5.3.0->pyvis) (5.1.1)\n",
      "Requirement already satisfied: jedi>=0.16 in /opt/anaconda3/lib/python3.12/site-packages (from ipython>=5.3.0->pyvis) (0.18.1)\n",
      "Requirement already satisfied: matplotlib-inline in /opt/anaconda3/lib/python3.12/site-packages (from ipython>=5.3.0->pyvis) (0.1.6)\n",
      "Requirement already satisfied: pickleshare in /opt/anaconda3/lib/python3.12/site-packages (from ipython>=5.3.0->pyvis) (0.7.5)\n",
      "Requirement already satisfied: prompt-toolkit!=3.0.37,<3.1.0,>=3.0.30 in /opt/anaconda3/lib/python3.12/site-packages (from ipython>=5.3.0->pyvis) (3.0.43)\n",
      "Requirement already satisfied: pygments>=2.4.0 in /opt/anaconda3/lib/python3.12/site-packages (from ipython>=5.3.0->pyvis) (2.15.1)\n",
      "Requirement already satisfied: stack-data in /opt/anaconda3/lib/python3.12/site-packages (from ipython>=5.3.0->pyvis) (0.2.0)\n",
      "Requirement already satisfied: traitlets>=5 in /opt/anaconda3/lib/python3.12/site-packages (from ipython>=5.3.0->pyvis) (5.14.3)\n",
      "Requirement already satisfied: pexpect>4.3 in /opt/anaconda3/lib/python3.12/site-packages (from ipython>=5.3.0->pyvis) (4.8.0)\n",
      "Requirement already satisfied: appnope in /opt/anaconda3/lib/python3.12/site-packages (from ipython>=5.3.0->pyvis) (0.1.3)\n",
      "Requirement already satisfied: wcwidth in /opt/anaconda3/lib/python3.12/site-packages (from prompt-toolkit!=3.0.37,<3.1.0,>=3.0.30->ipython>=5.3.0->pyvis) (0.2.5)\n",
      "Requirement already satisfied: parso<0.9.0,>=0.8.0 in /opt/anaconda3/lib/python3.12/site-packages (from jedi>=0.16->ipython>=5.3.0->pyvis) (0.8.3)\n",
      "Requirement already satisfied: MarkupSafe>=2.0 in /opt/anaconda3/lib/python3.12/site-packages (from jinja2>=2.9.6->pyvis) (2.1.3)\n",
      "Requirement already satisfied: ptyprocess>=0.5 in /opt/anaconda3/lib/python3.12/site-packages (from pexpect>4.3->ipython>=5.3.0->pyvis) (0.7.0)\n",
      "Requirement already satisfied: executing in /opt/anaconda3/lib/python3.12/site-packages (from stack-data->ipython>=5.3.0->pyvis) (0.8.3)\n",
      "Requirement already satisfied: asttokens in /opt/anaconda3/lib/python3.12/site-packages (from stack-data->ipython>=5.3.0->pyvis) (2.0.5)\n",
      "Requirement already satisfied: pure-eval in /opt/anaconda3/lib/python3.12/site-packages (from stack-data->ipython>=5.3.0->pyvis) (0.2.2)\n",
      "Requirement already satisfied: six in /opt/anaconda3/lib/python3.12/site-packages (from asttokens->stack-data->ipython>=5.3.0->pyvis) (1.16.0)\n"
     ]
    }
   ],
   "source": [
    "\n",
    "import networkx as nx\n",
    "from networkx.drawing.layout import bipartite_layout\n",
    "! pip install pyvis\n",
    "from pyvis.network import Network\n",
    "\n",
    "import random\n",
    "from collections import Counter\n",
    "from itertools import combinations"
   ]
  },
  {
   "cell_type": "code",
   "execution_count": 4,
   "id": "f7580f1a",
   "metadata": {},
   "outputs": [],
   "source": [
    "games_metadata_zip_path = 'data/games_metadata.json.zip'\n",
    "games_zip_path = 'data/games.csv.zip'\n",
    "recommendations_zip_path = 'data/recommendations.csv.zip'\n",
    "users_zip_path = 'data/users.csv.zip'\n",
    "\n",
    "games_metadata_json_filename = 'games_metadata.json'\n",
    "games_csv_filename = 'games.csv'  \n",
    "recommendations_csv_filename = 'recommendations.csv'  \n",
    "users_csv_filename = 'users.csv'  "
   ]
  },
  {
   "cell_type": "code",
   "execution_count": 5,
   "id": "73797c74",
   "metadata": {},
   "outputs": [
    {
     "data": {
      "text/html": [
       "<div>\n",
       "<style scoped>\n",
       "    .dataframe tbody tr th:only-of-type {\n",
       "        vertical-align: middle;\n",
       "    }\n",
       "\n",
       "    .dataframe tbody tr th {\n",
       "        vertical-align: top;\n",
       "    }\n",
       "\n",
       "    .dataframe thead th {\n",
       "        text-align: right;\n",
       "    }\n",
       "</style>\n",
       "<table border=\"1\" class=\"dataframe\">\n",
       "  <thead>\n",
       "    <tr style=\"text-align: right;\">\n",
       "      <th></th>\n",
       "      <th>app_id</th>\n",
       "      <th>description</th>\n",
       "      <th>tags</th>\n",
       "    </tr>\n",
       "  </thead>\n",
       "  <tbody>\n",
       "    <tr>\n",
       "      <th>0</th>\n",
       "      <td>13500</td>\n",
       "      <td>Enter the dark underworld of Prince of Persia ...</td>\n",
       "      <td>[Action, Adventure, Parkour, Third Person, Gre...</td>\n",
       "    </tr>\n",
       "    <tr>\n",
       "      <th>1</th>\n",
       "      <td>22364</td>\n",
       "      <td></td>\n",
       "      <td>[Action]</td>\n",
       "    </tr>\n",
       "    <tr>\n",
       "      <th>2</th>\n",
       "      <td>113020</td>\n",
       "      <td>Monaco: What's Yours Is Mine is a single playe...</td>\n",
       "      <td>[Co-op, Stealth, Indie, Heist, Local Co-Op, St...</td>\n",
       "    </tr>\n",
       "    <tr>\n",
       "      <th>3</th>\n",
       "      <td>226560</td>\n",
       "      <td>Escape Dead Island is a Survival-Mystery adven...</td>\n",
       "      <td>[Zombies, Adventure, Survival, Action, Third P...</td>\n",
       "    </tr>\n",
       "    <tr>\n",
       "      <th>4</th>\n",
       "      <td>249050</td>\n",
       "      <td>Dungeon of the Endless is a Rogue-Like Dungeon...</td>\n",
       "      <td>[Roguelike, Strategy, Tower Defense, Pixel Gra...</td>\n",
       "    </tr>\n",
       "  </tbody>\n",
       "</table>\n",
       "</div>"
      ],
      "text/plain": [
       "   app_id                                        description  \\\n",
       "0   13500  Enter the dark underworld of Prince of Persia ...   \n",
       "1   22364                                                      \n",
       "2  113020  Monaco: What's Yours Is Mine is a single playe...   \n",
       "3  226560  Escape Dead Island is a Survival-Mystery adven...   \n",
       "4  249050  Dungeon of the Endless is a Rogue-Like Dungeon...   \n",
       "\n",
       "                                                tags  \n",
       "0  [Action, Adventure, Parkour, Third Person, Gre...  \n",
       "1                                           [Action]  \n",
       "2  [Co-op, Stealth, Indie, Heist, Local Co-Op, St...  \n",
       "3  [Zombies, Adventure, Survival, Action, Third P...  \n",
       "4  [Roguelike, Strategy, Tower Defense, Pixel Gra...  "
      ]
     },
     "execution_count": 5,
     "metadata": {},
     "output_type": "execute_result"
    }
   ],
   "source": [
    "# Load JSON inside ZIP using lines=True\n",
    "with zipfile.ZipFile(games_metadata_zip_path) as z:\n",
    "    with z.open(games_metadata_json_filename) as f:\n",
    "        games_metadata = pd.read_json(f, lines=True)\n",
    "\n",
    "# Preview the dataframe\n",
    "games_metadata.head()"
   ]
  },
  {
   "cell_type": "code",
   "execution_count": 6,
   "id": "8719a6ec",
   "metadata": {},
   "outputs": [
    {
     "name": "stdout",
     "output_type": "stream",
     "text": [
      "<class 'pandas.core.frame.DataFrame'>\n",
      "RangeIndex: 50872 entries, 0 to 50871\n",
      "Data columns (total 3 columns):\n",
      " #   Column       Non-Null Count  Dtype \n",
      "---  ------       --------------  ----- \n",
      " 0   app_id       50872 non-null  int64 \n",
      " 1   description  50872 non-null  object\n",
      " 2   tags         50872 non-null  object\n",
      "dtypes: int64(1), object(2)\n",
      "memory usage: 1.2+ MB\n"
     ]
    }
   ],
   "source": [
    "games_metadata.info()"
   ]
  },
  {
   "cell_type": "code",
   "execution_count": 7,
   "id": "1d4ffa80",
   "metadata": {},
   "outputs": [
    {
     "name": "stdout",
     "output_type": "stream",
     "text": [
      "<class 'pandas.core.frame.DataFrame'>\n",
      "RangeIndex: 14306064 entries, 0 to 14306063\n",
      "Data columns (total 3 columns):\n",
      " #   Column    Dtype\n",
      "---  ------    -----\n",
      " 0   user_id   int64\n",
      " 1   products  int64\n",
      " 2   reviews   int64\n",
      "dtypes: int64(3)\n",
      "memory usage: 327.4 MB\n"
     ]
    }
   ],
   "source": [
    "# Open the users zip file\n",
    "with zipfile.ZipFile(users_zip_path) as z:\n",
    "    with z.open(users_csv_filename) as f:\n",
    "        users= pd.read_csv(f)\n",
    "\n",
    "users.info()"
   ]
  },
  {
   "cell_type": "code",
   "execution_count": 9,
   "id": "55791372",
   "metadata": {},
   "outputs": [
    {
     "name": "stdout",
     "output_type": "stream",
     "text": [
      "<class 'pandas.core.frame.DataFrame'>\n",
      "RangeIndex: 50872 entries, 0 to 50871\n",
      "Data columns (total 13 columns):\n",
      " #   Column          Non-Null Count  Dtype  \n",
      "---  ------          --------------  -----  \n",
      " 0   app_id          50872 non-null  int64  \n",
      " 1   title           50872 non-null  object \n",
      " 2   date_release    50872 non-null  object \n",
      " 3   win             50872 non-null  bool   \n",
      " 4   mac             50872 non-null  bool   \n",
      " 5   linux           50872 non-null  bool   \n",
      " 6   rating          50872 non-null  object \n",
      " 7   positive_ratio  50872 non-null  int64  \n",
      " 8   user_reviews    50872 non-null  int64  \n",
      " 9   price_final     50872 non-null  float64\n",
      " 10  price_original  50872 non-null  float64\n",
      " 11  discount        50872 non-null  float64\n",
      " 12  steam_deck      50872 non-null  bool   \n",
      "dtypes: bool(4), float64(3), int64(3), object(3)\n",
      "memory usage: 3.7+ MB\n"
     ]
    }
   ],
   "source": [
    "# Open the games zip file\n",
    "with zipfile.ZipFile(games_zip_path) as z:\n",
    "    with z.open(games_csv_filename) as f:\n",
    "        games = pd.read_csv(f)\n",
    "\n",
    "games.info()"
   ]
  },
  {
   "cell_type": "code",
   "execution_count": 10,
   "id": "67e3a2da",
   "metadata": {},
   "outputs": [
    {
     "name": "stdout",
     "output_type": "stream",
     "text": [
      "<class 'pandas.core.frame.DataFrame'>\n",
      "RangeIndex: 41154794 entries, 0 to 41154793\n",
      "Data columns (total 8 columns):\n",
      " #   Column          Dtype  \n",
      "---  ------          -----  \n",
      " 0   app_id          int64  \n",
      " 1   helpful         int64  \n",
      " 2   funny           int64  \n",
      " 3   date            object \n",
      " 4   is_recommended  bool   \n",
      " 5   hours           float64\n",
      " 6   user_id         int64  \n",
      " 7   review_id       int64  \n",
      "dtypes: bool(1), float64(1), int64(5), object(1)\n",
      "memory usage: 2.2+ GB\n"
     ]
    }
   ],
   "source": [
    "# Open the recommendations zip file\n",
    "with zipfile.ZipFile(recommendations_zip_path) as z:\n",
    "    with z.open(recommendations_csv_filename) as f:\n",
    "        recommendations = pd.read_csv(f)\n",
    "\n",
    "recommendations.info()"
   ]
  },
  {
   "cell_type": "code",
   "execution_count": 12,
   "id": "36cfdba9",
   "metadata": {},
   "outputs": [
    {
     "name": "stdout",
     "output_type": "stream",
     "text": [
      "value is counted\n",
      "popular games are found\n",
      "games are filtered\n",
      "<class 'pandas.core.frame.DataFrame'>\n",
      "Index: 2738448 entries, 2 to 41152032\n",
      "Data columns (total 8 columns):\n",
      " #   Column          Dtype  \n",
      "---  ------          -----  \n",
      " 0   app_id          int64  \n",
      " 1   helpful         int64  \n",
      " 2   funny           int64  \n",
      " 3   date            object \n",
      " 4   is_recommended  bool   \n",
      " 5   hours           float64\n",
      " 6   user_id         int64  \n",
      " 7   review_id       int64  \n",
      "dtypes: bool(1), float64(1), int64(5), object(1)\n",
      "memory usage: 169.8+ MB\n",
      "None\n"
     ]
    }
   ],
   "source": [
    "# Filter recommendations for \"is_recommended = True\"\n",
    "filtered_recommendations = recommendations[recommendations['is_recommended']]\n",
    "\n",
    "# Count recommendations per game\n",
    "game_recommendation_counts = filtered_recommendations['app_id'].value_counts()\n",
    "print('value is counted')\n",
    "\n",
    "# Filter games with at least 150,000 recommendations\n",
    "popular_games_index = game_recommendation_counts[game_recommendation_counts >= 150000].index\n",
    "print('popular games are found')\n",
    "\n",
    "# Filter recommendations to include only popular games\n",
    "filtered_recommendations = filtered_recommendations[filtered_recommendations['app_id'].isin(popular_games_index)]\n",
    "print('games are filtered')\n",
    "print(filtered_recommendations.info())\n",
    "\n",
    "# Group by user and create game pairs\n",
    "user_groups = filtered_recommendations.groupby('user_id')['app_id'].apply(list)\n",
    "game_pairs = [pair for apps in user_groups for pair in combinations(apps, 2)]\n",
    "\n",
    "# Count occurrences of each game pair for edge thickness\n",
    "edge_counts = Counter(game_pairs)"
   ]
  },
  {
   "cell_type": "code",
   "execution_count": 13,
   "id": "811da1a8",
   "metadata": {},
   "outputs": [
    {
     "name": "stdout",
     "output_type": "stream",
     "text": [
      "Warning: When  cdn_resources is 'local' jupyter notebook has issues displaying graphics on chrome/safari. Use cdn_resources='in_line' or cdn_resources='remote' if you have issues viewing graphics in a notebook.\n",
      "game_network.html\n"
     ]
    },
    {
     "data": {
      "text/html": [
       "\n",
       "        <iframe\n",
       "            width=\"100%\"\n",
       "            height=\"600px\"\n",
       "            src=\"game_network.html\"\n",
       "            frameborder=\"0\"\n",
       "            allowfullscreen\n",
       "            \n",
       "        ></iframe>\n",
       "        "
      ],
      "text/plain": [
       "<IPython.lib.display.IFrame at 0x130dbc110>"
      ]
     },
     "execution_count": 13,
     "metadata": {},
     "output_type": "execute_result"
    }
   ],
   "source": [
    "# Create a graph using NetworkX\n",
    "G = nx.Graph()\n",
    "G.add_edges_from(game_pairs)\n",
    "\n",
    "# Add node attributes from the games.csv and recommendation count\n",
    "for _, row in games.iterrows():\n",
    "    if row['app_id'] in G:\n",
    "        recommendation_count = game_recommendation_counts.get(row['app_id'], 0)\n",
    "        G.nodes[row['app_id']]['title'] = row['title']\n",
    "        G.nodes[row['app_id']]['size'] = recommendation_count  # Node size equals recommendation count\n",
    "\n",
    "# Create PyVis Network\n",
    "net = Network(notebook=True)  # Set notebook=True for Jupyter notebooks\n",
    "\n",
    "for node_id in G.nodes:\n",
    "    title = G.nodes[node_id].get('title', 'Unknown')\n",
    "    size = int(G.nodes[node_id].get('size', 1))  # Convert to Python int\n",
    "\n",
    "    # Add the node to PyVis\n",
    "    net.add_node(\n",
    "        int(node_id),  # Ensure node ID is also a native Python int\n",
    "        label=title,\n",
    "        size= size / 5000,  \n",
    "        title=f\"{title}\\nRecommendations: {size}\"\n",
    "    )\n",
    "    \n",
    " \n",
    "# Add edges with game names and recommendation counts\n",
    "for edge in G.edges:\n",
    "    edge_count = edge_counts.get((edge[0], edge[1]), 1)  # Default to 1 if not found\n",
    "    game_1_title = G.nodes[edge[0]].get('title', 'Unknown Game')\n",
    "    game_2_title = G.nodes[edge[1]].get('title', 'Unknown Game')\n",
    "\n",
    "    # Add edge with enhanced tooltip\n",
    "    net.add_edge(\n",
    "        int(edge[0]), \n",
    "        int(edge[1]),\n",
    "        value=edge_count,  # Use edge count for thickness\n",
    "        title=f\"Recommended Together: {edge_count}\\nGames: {game_1_title} ↔ {game_2_title}\"\n",
    "    )\n",
    "\n",
    "# Configure the physics settings \n",
    "net.repulsion(\n",
    "    node_distance=300,  # Distance between nodes\n",
    "    central_gravity=0.05,  # Gravity towards the center\n",
    "    spring_length=200,  # Spring length for edges\n",
    "    spring_strength=0.05,  # Strength of the spring\n",
    "    damping=0.9,  # Damping factor\n",
    ")\n",
    "\n",
    "# Show the graph\n",
    "net.show(\"game_network.html\")"
   ]
  },
  {
   "cell_type": "markdown",
   "id": "87a40c21",
   "metadata": {},
   "source": [
    "In this PyVis network plot, each node represents a popular game (recommendation count > 150.000). Node sizes are depending on recommendation count of that game. The edges represent if the same user who recommended the game also recommended the other game. Thicker edges mean more recommendation by same user for both games. For example, people who recommended Witcher 3 also recommended Cyberpunk 2077 (9103 times)."
   ]
  }
 ],
 "metadata": {
  "kernelspec": {
   "display_name": "base",
   "language": "python",
   "name": "python3"
  },
  "language_info": {
   "codemirror_mode": {
    "name": "ipython",
    "version": 3
   },
   "file_extension": ".py",
   "mimetype": "text/x-python",
   "name": "python",
   "nbconvert_exporter": "python",
   "pygments_lexer": "ipython3",
   "version": "3.12.2"
  }
 },
 "nbformat": 4,
 "nbformat_minor": 5
}
